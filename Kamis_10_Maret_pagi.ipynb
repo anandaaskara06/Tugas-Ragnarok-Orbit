{
  "nbformat": 4,
  "nbformat_minor": 0,
  "metadata": {
    "colab": {
      "name": "Kamis_10_Maret_pagi.ipynb",
      "private_outputs": true,
      "provenance": [],
      "collapsed_sections": []
    },
    "kernelspec": {
      "name": "python3",
      "display_name": "Python 3"
    },
    "language_info": {
      "name": "python"
    }
  },
  "cells": [
    {
      "cell_type": "markdown",
      "source": [
        "MATERI UJI HIPOTESIS KAMIS \n",
        "\n",
        "Nama : Ananda Putra Jun Askara\n",
        "\n",
        "Kelas : Ragnarok\n",
        "\n",
        "Universitas : Bina Nusantara\n",
        "\n",
        "Soal\n",
        "Misalkan kamu adalah data scientist di gojek. Kamu ingin mengetahui apakah kemacetan mempengaruhi tingkat kepuasan pelanggan. Jadi kamu ingin memebandingkan nilai \"bintang\" dari customer saat dia order di jam macet dan tidak macet. (#hint = data dari customer yang sama)\n",
        "\n",
        "macet = [2, 3, 5, 4, 5, 4, 4, 3, 4, 3, 4, 5, 4, 5, 4, 3, 4, 3, 3, 5, 4, 3, 4, 3, 4, 3, 4, 4, 5]\n",
        "\n",
        "tidak_macet = [2, 2, 4, 5, 4, 3, 3, 3, 3, 3, 3, 4, 4, 5, 4, 3, 3, 2, 3, 4, 4, 3, 3, 3, 4, 3, 4, 3, 4]\n",
        "\n",
        "1. Buat hipotesisnya\n",
        "2. Lakukan uji asumsi normalitasnya\n",
        "3. Jika datanya normal lakukan uji parametrik, jika tidak berdistribusi normal lakukan uji nonparametrik\n",
        "4. Apa kesimpulan uji hipotesisnya?"
      ],
      "metadata": {
        "id": "XX2JSLVyFfNz"
      }
    },
    {
      "cell_type": "code",
      "execution_count": null,
      "metadata": {
        "id": "OdE7v1ogFdKU"
      },
      "outputs": [],
      "source": [
        "import matplotlib.pyplot as plt\n",
        "import pandas as pd\n",
        "import seaborn as sns\n",
        "import numpy as np\n",
        "from scipy import stats"
      ]
    },
    {
      "cell_type": "markdown",
      "source": [
        "Jawaban soal no 1\n",
        "\n",
        "Hipotesis nya adalah :\n",
        "H0 = Tingkat kemacetan memengaruhi tingkat kepuasan pelanggan\n",
        "Ha = Tingkat kemacetan tidak memengaruhi tingkat kepuasan pelanggan\n",
        "\n",
        "Jawaban no.2"
      ],
      "metadata": {
        "id": "kbijRGnBKOpi"
      }
    },
    {
      "cell_type": "code",
      "source": [
        "#Data\n",
        "\n",
        "macet = np.array([2, 3, 5, 4, 5, 4, 4, 3, 4, 3, 4, 5, 4, 5, 4, 3, 4, 3, 3, 5, 4, 3, 4, 3, 4, 3, 4, 4, 5])\n",
        "\n",
        "tidak_macet = np.array([2, 2, 4, 5, 4, 3, 3, 3, 3, 3, 3, 4, 4, 5, 4, 3, 3, 2, 3, 4, 4, 3, 3, 3, 4, 3, 4, 3, 4])\n"
      ],
      "metadata": {
        "id": "Wea5BJ7wKRS6"
      },
      "execution_count": null,
      "outputs": []
    },
    {
      "cell_type": "code",
      "source": [
        "#Hitung dulu panjang masing masing data untuk menentukan data berdimensi sama atau tidak\n",
        "\n",
        "len(macet)"
      ],
      "metadata": {
        "id": "ShWlYmWKKa_v"
      },
      "execution_count": null,
      "outputs": []
    },
    {
      "cell_type": "code",
      "source": [
        "len(tidak_macet)"
      ],
      "metadata": {
        "id": "0Krg_ml9Kcml"
      },
      "execution_count": null,
      "outputs": []
    },
    {
      "cell_type": "code",
      "source": [
        "#Dapat disimpulkan bahwa data berdimensi sama"
      ],
      "metadata": {
        "id": "fiHYEH2mKrpD"
      },
      "execution_count": null,
      "outputs": []
    },
    {
      "cell_type": "code",
      "source": [
        "# Uji asumsi normalitas\n",
        "\n",
        "# Hipotesisnya adalah :\n",
        "# Ho = data berdistribusi normal\n",
        "# Ha = data tidak berdistribusi normal"
      ],
      "metadata": {
        "id": "pN3osG9aKvDR"
      },
      "execution_count": null,
      "outputs": []
    },
    {
      "cell_type": "code",
      "source": [
        "sns.distplot(macet)"
      ],
      "metadata": {
        "id": "Z-Q6sJfRKx0s"
      },
      "execution_count": null,
      "outputs": []
    },
    {
      "cell_type": "code",
      "source": [
        "sns.distplot(tidak_macet)"
      ],
      "metadata": {
        "id": "2eEFr_IlKx-u"
      },
      "execution_count": null,
      "outputs": []
    },
    {
      "cell_type": "code",
      "source": [
        "#Uji Kolmogorov-Smirnov\n",
        "\n",
        "z_score_macet = stats.zscore(macet)\n",
        "z_score_tMacet = stats.zscore(tidak_macet)\n",
        "print('uji kolmogorov smirnov macet = ', stats.kstest(z_score_macet, \"norm\"))\n",
        "print('uji kolmogorov smirnov tidak macet = ', stats.kstest(z_score_tMacet, \"norm\"))"
      ],
      "metadata": {
        "id": "EZDsDTExK9Nq"
      },
      "execution_count": null,
      "outputs": []
    },
    {
      "cell_type": "markdown",
      "source": [
        ""
      ],
      "metadata": {
        "id": "AbKPTpUjLAN9"
      }
    },
    {
      "cell_type": "markdown",
      "source": [
        "karena data tidak macet bertistribusi tidak normal, maka data termasuk ke dalam jenis non parametrik. sehingga kita akan menguji perbedaan data menggunakan uji nonparametrik contohnya uji wilcoxon. hasil tes dengan menggunakan uji kologorov-smirnov dapat disimpulkan bahwa salah satu data tidak berdistribusi normal, sehingga diperlukan uji lanjutan untuk data yang non-parametrik. Selanjutnya akan dilakukan uji lanjutan dengan wilcoxon\n",
        "\n",
        "Jawaban no.3"
      ],
      "metadata": {
        "id": "RClj_aKDLAPr"
      }
    },
    {
      "cell_type": "code",
      "source": [
        "d = macet - tidak_macet\n",
        "stats.wilcoxon(d)"
      ],
      "metadata": {
        "id": "iizxoyWtLCb4"
      },
      "execution_count": null,
      "outputs": []
    },
    {
      "cell_type": "markdown",
      "source": [
        "Jawaban no.4\n",
        "\n",
        "Perbandingan p value dan alpha : 0.0007 < 0.05\n",
        "\n",
        "Ho ditolak, Ha diterima\n",
        "\n",
        "karena p-value = 0.000789 < 0.05, maka Ho ditolak, \n",
        "terdapat perbedaan yang signifikan dari data kepuasan pelanggan \n",
        "terhadap pemberian nilai bintang ketika pelanggan order di \n",
        "kondisi macet atau tidak macet."
      ],
      "metadata": {
        "id": "VUJ8-YgdLJ2k"
      }
    }
  ]
}
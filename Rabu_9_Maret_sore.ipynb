{
  "nbformat": 4,
  "nbformat_minor": 0,
  "metadata": {
    "colab": {
      "name": "Rabu_9_Maret_sore.ipynb",
      "provenance": [],
      "collapsed_sections": []
    },
    "kernelspec": {
      "name": "python3",
      "display_name": "Python 3"
    },
    "language_info": {
      "name": "python"
    }
  },
  "cells": [
    {
      "cell_type": "markdown",
      "source": [
        "Tugas Rabu (Materi Basic Statistic)\n",
        "Nama : Ananda Putra Jun Askara\n",
        "\n",
        "Kelas : Ragnarok\n",
        "\n",
        "Universitas : Bina Nusantara\n",
        "\n",
        "Praktik Pengulangan Program"
      ],
      "metadata": {
        "id": "wiKkdrs1Z6eE"
      }
    },
    {
      "cell_type": "code",
      "source": [
        "import sys\n",
        "\n",
        "# run this cell to install numpy\n",
        "!{sys.executable} -m pip install numpy\n",
        "\n",
        "# run this cell to install scipy\n",
        "!{sys.executable} -m pip install scipy"
      ],
      "metadata": {
        "colab": {
          "base_uri": "https://localhost:8080/"
        },
        "id": "oATyT47LVhPf",
        "outputId": "c61a8a2a-b35e-4a4a-ed64-49ac78c31471"
      },
      "execution_count": 1,
      "outputs": [
        {
          "output_type": "stream",
          "name": "stdout",
          "text": [
            "Requirement already satisfied: numpy in /usr/local/lib/python3.7/dist-packages (1.21.6)\n",
            "Requirement already satisfied: scipy in /usr/local/lib/python3.7/dist-packages (1.4.1)\n",
            "Requirement already satisfied: numpy>=1.13.3 in /usr/local/lib/python3.7/dist-packages (from scipy) (1.21.6)\n"
          ]
        }
      ]
    },
    {
      "cell_type": "code",
      "source": [
        "import sys\n",
        "import scipy"
      ],
      "metadata": {
        "id": "xKH8NFDuaIi4"
      },
      "execution_count": 2,
      "outputs": []
    },
    {
      "cell_type": "code",
      "source": [
        "import numpy as np\n",
        "\n",
        "# Creating a Basic Array in Numpy\n",
        "X=np.array([2,5,7,4,4])"
      ],
      "metadata": {
        "id": "NOz5d3nlaIvf"
      },
      "execution_count": 3,
      "outputs": []
    },
    {
      "cell_type": "code",
      "source": [
        "# Mean using Numpy\n",
        "print(\"Data\",X)\n",
        "print(\"Mean:\",np.mean(X))\n"
      ],
      "metadata": {
        "colab": {
          "base_uri": "https://localhost:8080/"
        },
        "id": "NY8hHgrSaPhi",
        "outputId": "cb487ea0-4654-4fa6-fc08-f3e6b5bd522c"
      },
      "execution_count": 4,
      "outputs": [
        {
          "output_type": "stream",
          "name": "stdout",
          "text": [
            "Data [2 5 7 4 4]\n",
            "Mean: 4.4\n"
          ]
        }
      ]
    },
    {
      "cell_type": "code",
      "source": [
        "# Finding Median of X\n",
        "print(\"Data\",X)\n",
        "print(\"Median\",np.median(X))"
      ],
      "metadata": {
        "colab": {
          "base_uri": "https://localhost:8080/"
        },
        "id": "MUnRAj1FaV1s",
        "outputId": "ab95ab5a-18b9-4a03-b123-4b760bb327a3"
      },
      "execution_count": 5,
      "outputs": [
        {
          "output_type": "stream",
          "name": "stdout",
          "text": [
            "Data [2 5 7 4 4]\n",
            "Median 4.0\n"
          ]
        }
      ]
    },
    {
      "cell_type": "code",
      "source": [
        "np.unique(X, return_counts=True)"
      ],
      "metadata": {
        "colab": {
          "base_uri": "https://localhost:8080/"
        },
        "id": "I4YZlRjjaV-h",
        "outputId": "e8c6680b-edd0-4cb4-f720-8208bc33b421"
      },
      "execution_count": 6,
      "outputs": [
        {
          "output_type": "execute_result",
          "data": {
            "text/plain": [
              "(array([2, 4, 5, 7]), array([1, 2, 1, 1]))"
            ]
          },
          "metadata": {},
          "execution_count": 6
        }
      ]
    },
    {
      "cell_type": "code",
      "source": [
        "# Finding Mode using numpy\n",
        "print(\"Data\",X)\n",
        "val, count = np.unique(X, return_counts=True)\n",
        "val, count"
      ],
      "metadata": {
        "colab": {
          "base_uri": "https://localhost:8080/"
        },
        "id": "fvKVa1wUaR90",
        "outputId": "a3c666f3-2973-4fd0-f5fa-5caea65d452d"
      },
      "execution_count": 7,
      "outputs": [
        {
          "output_type": "stream",
          "name": "stdout",
          "text": [
            "Data [2 5 7 4 4]\n"
          ]
        },
        {
          "output_type": "execute_result",
          "data": {
            "text/plain": [
              "(array([2, 4, 5, 7]), array([1, 2, 1, 1]))"
            ]
          },
          "metadata": {},
          "execution_count": 7
        }
      ]
    },
    {
      "cell_type": "code",
      "source": [
        "count"
      ],
      "metadata": {
        "colab": {
          "base_uri": "https://localhost:8080/"
        },
        "id": "zBD8mhR-aej0",
        "outputId": "8643dab1-1389-4b5e-8539-5207a11270c4"
      },
      "execution_count": 8,
      "outputs": [
        {
          "output_type": "execute_result",
          "data": {
            "text/plain": [
              "array([1, 2, 1, 1])"
            ]
          },
          "metadata": {},
          "execution_count": 8
        }
      ]
    },
    {
      "cell_type": "code",
      "source": [
        "index = np.argmax(count)\n",
        "print(\"Index: \", index)\n",
        "print(\"Mode numpy:\",val[index])"
      ],
      "metadata": {
        "colab": {
          "base_uri": "https://localhost:8080/"
        },
        "id": "W6SwU7CMaeqz",
        "outputId": "b0778f9e-2ad4-4812-829f-e503462c97a0"
      },
      "execution_count": 9,
      "outputs": [
        {
          "output_type": "stream",
          "name": "stdout",
          "text": [
            "Index:  1\n",
            "Mode numpy: 4\n"
          ]
        }
      ]
    },
    {
      "cell_type": "code",
      "source": [
        "# Finding Mode using Scipy\n",
        "\n",
        "from scipy import stats\n",
        "\n",
        "print(\"Mode scipy:\",stats.mode(X))\n",
        "modus = stats.mode(X)"
      ],
      "metadata": {
        "colab": {
          "base_uri": "https://localhost:8080/"
        },
        "id": "ZgaDhHCUaewA",
        "outputId": "2dcd19e2-24ac-4285-833b-d50b20fd2e25"
      },
      "execution_count": 10,
      "outputs": [
        {
          "output_type": "stream",
          "name": "stdout",
          "text": [
            "Mode scipy: ModeResult(mode=array([4]), count=array([2]))\n"
          ]
        }
      ]
    },
    {
      "cell_type": "code",
      "source": [
        "modus"
      ],
      "metadata": {
        "colab": {
          "base_uri": "https://localhost:8080/"
        },
        "id": "a24xTwOgamQ8",
        "outputId": "602ff8fb-afab-408e-8329-ab55d6cecdef"
      },
      "execution_count": 11,
      "outputs": [
        {
          "output_type": "execute_result",
          "data": {
            "text/plain": [
              "ModeResult(mode=array([4]), count=array([2]))"
            ]
          },
          "metadata": {},
          "execution_count": 11
        }
      ]
    },
    {
      "cell_type": "code",
      "source": [
        "# Calculating the Range\n",
        "print(\"Data \",X)\n",
        "print(\"Range \",X.max()-X.min())\n"
      ],
      "metadata": {
        "colab": {
          "base_uri": "https://localhost:8080/"
        },
        "id": "KMfYw3VtaoTP",
        "outputId": "ab378e9d-8fbf-4414-9155-3fe7af8aab65"
      },
      "execution_count": 12,
      "outputs": [
        {
          "output_type": "stream",
          "name": "stdout",
          "text": [
            "Data  [2 5 7 4 4]\n",
            "Range  5\n"
          ]
        }
      ]
    },
    {
      "cell_type": "code",
      "source": [
        "# Defining Data\n",
        "data1=np.array([5, 3, 4, 8, 5, 8, 7, 11])\n",
        "print(\"Data\",data1)\n",
        "\n",
        "# First quartile (Q1)\n",
        "Q1 = np.quantile(data1, .25, interpolation = 'midpoint')\n",
        "print(\"\\nQuartile 1:\",Q1)\n",
        " \n",
        "# Second quartile (Q2)\n",
        "Q2 = np.quantile(data1, .50, interpolation = 'midpoint')\n",
        "print(\"Quartile 2:\",Q2)\n",
        "\n",
        "# Third quartile (Q3)\n",
        "Q3 = np.quantile(data1, .75, interpolation = 'midpoint')\n",
        "print(\"Quartile 3:\",Q3)\n",
        "\n",
        "# Interquaritle range (IQR)\n",
        "IQR = Q3 - Q1\n",
        "print(\"\\nInterquartile Range\",IQR)"
      ],
      "metadata": {
        "colab": {
          "base_uri": "https://localhost:8080/"
        },
        "id": "amVFpQ8DaoyE",
        "outputId": "34162dae-342e-4f06-f951-6dba84ef9151"
      },
      "execution_count": 13,
      "outputs": [
        {
          "output_type": "stream",
          "name": "stdout",
          "text": [
            "Data [ 5  3  4  8  5  8  7 11]\n",
            "\n",
            "Quartile 1: 4.5\n",
            "Quartile 2: 6.0\n",
            "Quartile 3: 8.0\n",
            "\n",
            "Interquartile Range 3.5\n"
          ]
        }
      ]
    },
    {
      "cell_type": "code",
      "source": [
        "print(\"Data\",data1)\n",
        "percentile_20 = np.percentile(data1,20)\n",
        "print(\"20th Percentile:\",round(percentile_20,2))"
      ],
      "metadata": {
        "colab": {
          "base_uri": "https://localhost:8080/"
        },
        "id": "WyfZ4CJsavUT",
        "outputId": "eba3551c-cbd6-4f19-a3a5-545f7c9b16c3"
      },
      "execution_count": 14,
      "outputs": [
        {
          "output_type": "stream",
          "name": "stdout",
          "text": [
            "Data [ 5  3  4  8  5  8  7 11]\n",
            "20th Percentile: 4.4\n"
          ]
        }
      ]
    },
    {
      "cell_type": "code",
      "source": [
        "import numpy as np\n",
        "\n",
        "data1=np.array([1, 3, 4, 5, 5, 6, 7, 11])\n",
        "\n",
        "print(\"Data\",data1)\n",
        "\n",
        "'''\n",
        "    \"Delta Degrees of Freedom\": the divisor used in the calculation is\n",
        "    ``N - ddof``, where ``N`` represents the number of elements. By\n",
        "    default `ddof` is zero.\n",
        "'''\n",
        "print(\"Varaince:\",np.var(data1,ddof=1))\n",
        "print(\"Standard Deviation:\",np.std(data1,ddof=0)) # populasi\n",
        "print(\"Standard Deviation:\",np.std(data1,ddof=1)) # sampel"
      ],
      "metadata": {
        "colab": {
          "base_uri": "https://localhost:8080/"
        },
        "id": "xroOOq0xav8D",
        "outputId": "776adc6a-f4dd-4d2e-9cad-f62329f0cb65"
      },
      "execution_count": 15,
      "outputs": [
        {
          "output_type": "stream",
          "name": "stdout",
          "text": [
            "Data [ 1  3  4  5  5  6  7 11]\n",
            "Varaince: 8.785714285714286\n",
            "Standard Deviation: 2.7726341266023544\n",
            "Standard Deviation: 2.9640705601780613\n"
          ]
        }
      ]
    },
    {
      "cell_type": "code",
      "source": [
        "import numpy as np\n",
        "import statistics\n",
        "\n",
        "E = [60,70,70,70,80,80,80,80,90,100]\n",
        "F = [75,75,75,75,80,80,80,80,80,80]\n",
        "\n",
        "# mean\n",
        "print(\"Nilai Mean E : \", np.mean(E))\n",
        "\n",
        "# range\n",
        "print(\"Nilai Range E :\", np.max(E) - np.min(E))\n",
        "\n",
        "# varians\n",
        "print(\"Nilai Varians E :\", np.var(E))\n",
        "\n",
        "# Standart Deviasi\n",
        "print(\"Nilai Standart Deviasi E: \", np.std(E)) # std populasi\n",
        "print(\"Nilai Standart Deviasi E: \", statistics.stdev(E)) # std sampel, bisa pakai pst.dev untuk populasi"
      ],
      "metadata": {
        "colab": {
          "base_uri": "https://localhost:8080/"
        },
        "id": "xILkypEGa4cG",
        "outputId": "546821b6-e2f9-4ddb-c884-96f2d24819ac"
      },
      "execution_count": 16,
      "outputs": [
        {
          "output_type": "stream",
          "name": "stdout",
          "text": [
            "Nilai Mean E :  78.0\n",
            "Nilai Range E : 40\n",
            "Nilai Varians E : 116.0\n",
            "Nilai Standart Deviasi E:  10.770329614269007\n",
            "Nilai Standart Deviasi E:  11.352924243950934\n"
          ]
        }
      ]
    },
    {
      "cell_type": "code",
      "source": [
        "x = np.array([1,2,3,4,5,6,7,8,9])\n",
        "print(x)\n",
        "y = np.array([9,8,7,6,5,4,3,2,1])\n",
        "print(y)\n",
        "\n",
        "print(\"\\nCovariance \",np.cov(x,y)[0,1])"
      ],
      "metadata": {
        "colab": {
          "base_uri": "https://localhost:8080/"
        },
        "id": "kB7sHzPta6xm",
        "outputId": "963b2181-e6ab-4109-a7d5-5044660e5d67"
      },
      "execution_count": 17,
      "outputs": [
        {
          "output_type": "stream",
          "name": "stdout",
          "text": [
            "[1 2 3 4 5 6 7 8 9]\n",
            "[9 8 7 6 5 4 3 2 1]\n",
            "\n",
            "Covariance  -7.5\n"
          ]
        }
      ]
    },
    {
      "cell_type": "code",
      "source": [
        "# Return a correlation coefficient matrix\n",
        "print(np.corrcoef(x,y))"
      ],
      "metadata": {
        "colab": {
          "base_uri": "https://localhost:8080/"
        },
        "id": "0cw7HS_za64a",
        "outputId": "46c8ec26-c7de-4e75-e55f-f1ce99aa8b3a"
      },
      "execution_count": 18,
      "outputs": [
        {
          "output_type": "stream",
          "name": "stdout",
          "text": [
            "[[ 1. -1.]\n",
            " [-1.  1.]]\n"
          ]
        }
      ]
    },
    {
      "cell_type": "code",
      "source": [
        "data2=np.linspace(-10,10,100)\n",
        "print(\"Kurtosis\",stats.kurtosis(data2))"
      ],
      "metadata": {
        "colab": {
          "base_uri": "https://localhost:8080/"
        },
        "id": "TDapnGyIa7Tl",
        "outputId": "12b4b7e4-ce73-4f60-b841-4f9e4f017891"
      },
      "execution_count": 19,
      "outputs": [
        {
          "output_type": "stream",
          "name": "stdout",
          "text": [
            "Kurtosis -1.2002400240024003\n"
          ]
        }
      ]
    },
    {
      "cell_type": "code",
      "source": [
        "data2"
      ],
      "metadata": {
        "colab": {
          "base_uri": "https://localhost:8080/"
        },
        "id": "NlH_catbbAyy",
        "outputId": "52fe92a3-4dfd-4756-e592-c7cd10a5e462"
      },
      "execution_count": 20,
      "outputs": [
        {
          "output_type": "execute_result",
          "data": {
            "text/plain": [
              "array([-10.        ,  -9.7979798 ,  -9.5959596 ,  -9.39393939,\n",
              "        -9.19191919,  -8.98989899,  -8.78787879,  -8.58585859,\n",
              "        -8.38383838,  -8.18181818,  -7.97979798,  -7.77777778,\n",
              "        -7.57575758,  -7.37373737,  -7.17171717,  -6.96969697,\n",
              "        -6.76767677,  -6.56565657,  -6.36363636,  -6.16161616,\n",
              "        -5.95959596,  -5.75757576,  -5.55555556,  -5.35353535,\n",
              "        -5.15151515,  -4.94949495,  -4.74747475,  -4.54545455,\n",
              "        -4.34343434,  -4.14141414,  -3.93939394,  -3.73737374,\n",
              "        -3.53535354,  -3.33333333,  -3.13131313,  -2.92929293,\n",
              "        -2.72727273,  -2.52525253,  -2.32323232,  -2.12121212,\n",
              "        -1.91919192,  -1.71717172,  -1.51515152,  -1.31313131,\n",
              "        -1.11111111,  -0.90909091,  -0.70707071,  -0.50505051,\n",
              "        -0.3030303 ,  -0.1010101 ,   0.1010101 ,   0.3030303 ,\n",
              "         0.50505051,   0.70707071,   0.90909091,   1.11111111,\n",
              "         1.31313131,   1.51515152,   1.71717172,   1.91919192,\n",
              "         2.12121212,   2.32323232,   2.52525253,   2.72727273,\n",
              "         2.92929293,   3.13131313,   3.33333333,   3.53535354,\n",
              "         3.73737374,   3.93939394,   4.14141414,   4.34343434,\n",
              "         4.54545455,   4.74747475,   4.94949495,   5.15151515,\n",
              "         5.35353535,   5.55555556,   5.75757576,   5.95959596,\n",
              "         6.16161616,   6.36363636,   6.56565657,   6.76767677,\n",
              "         6.96969697,   7.17171717,   7.37373737,   7.57575758,\n",
              "         7.77777778,   7.97979798,   8.18181818,   8.38383838,\n",
              "         8.58585859,   8.78787879,   8.98989899,   9.19191919,\n",
              "         9.39393939,   9.5959596 ,   9.7979798 ,  10.        ])"
            ]
          },
          "metadata": {},
          "execution_count": 20
        }
      ]
    },
    {
      "cell_type": "code",
      "source": [
        "from IPython.display import HTML\n",
        "from IPython.display import display\n",
        "\n",
        "# Taken from https://stackoverflow.com/questions/31517194/how-to-hide-one-specific-cell-input-or-output-in-ipython-notebook\n",
        "tag = HTML('''<script>\n",
        "code_show=true; \n",
        "function code_toggle() {\n",
        "    if (code_show){\n",
        "        $('div.cell.code_cell.rendered.selected div.input').hide();\n",
        "    } else {\n",
        "        $('div.cell.code_cell.rendered.selected div.input').show();\n",
        "    }\n",
        "    code_show = !code_show\n",
        "} \n",
        "$( document ).ready(code_toggle);\n",
        "</script>\n",
        "To show/hide this cell's raw code input, click <a href=\"javascript:code_toggle()\">here</a>.''')\n",
        "display(tag)\n",
        "\n",
        "\n",
        "\n",
        "from scipy.stats import skewnorm\n",
        "import matplotlib.pyplot as plt\n",
        "\n",
        "numValues = 10000\n",
        "maxValue = 100\n",
        "skewness = -5   #Negative values are left skewed, positive values are right skewed.\n",
        "\n",
        "random = skewnorm.rvs(a = skewness,loc=maxValue, size=numValues)  #Skewnorm function\n",
        "\n",
        "random = random - min(random)      #Shift the set so the minimum value is equal to zero.\n",
        "random = random / max(random)      #Standadize all the vlues between 0 and 1. \n",
        "random = random * maxValue         #Multiply the standardized values by the maximum value.\n",
        "\n",
        "#Plot histogram to check skewness\n",
        "plt.hist(random,30,density=True, color = 'red', alpha=0.1)\n",
        "plt.show()"
      ],
      "metadata": {
        "colab": {
          "base_uri": "https://localhost:8080/",
          "height": 282
        },
        "id": "dRyaMLcPbFle",
        "outputId": "ab280ce9-0ddd-4887-ce10-6fdd289ba5b5"
      },
      "execution_count": 21,
      "outputs": [
        {
          "output_type": "display_data",
          "data": {
            "text/plain": [
              "<IPython.core.display.HTML object>"
            ],
            "text/html": [
              "<script>\n",
              "code_show=true; \n",
              "function code_toggle() {\n",
              "    if (code_show){\n",
              "        $('div.cell.code_cell.rendered.selected div.input').hide();\n",
              "    } else {\n",
              "        $('div.cell.code_cell.rendered.selected div.input').show();\n",
              "    }\n",
              "    code_show = !code_show\n",
              "} \n",
              "$( document ).ready(code_toggle);\n",
              "</script>\n",
              "To show/hide this cell's raw code input, click <a href=\"javascript:code_toggle()\">here</a>."
            ]
          },
          "metadata": {}
        },
        {
          "output_type": "display_data",
          "data": {
            "text/plain": [
              "<Figure size 432x288 with 1 Axes>"
            ],
            "image/png": "[encoded data removed]"
          },
          "metadata": {
            "needs_background": "light"
          }
        }
      ]
    },
    {
      "cell_type": "code",
      "source": [
        "print(\"Skewness\",stats.skew(data2))"
      ],
      "metadata": {
        "colab": {
          "base_uri": "https://localhost:8080/"
        },
        "id": "znMjxWSabG0Z",
        "outputId": "b5f59c7b-2626-4298-caf4-edcdc78664c2"
      },
      "execution_count": 22,
      "outputs": [
        {
          "output_type": "stream",
          "name": "stdout",
          "text": [
            "Skewness -2.8663736585314984e-17\n"
          ]
        }
      ]
    },
    {
      "cell_type": "code",
      "source": [
        "import numpy as np\n",
        "x = np.matrix([[5,6,0],[3,7,5],[5,6,1]])\n",
        "x"
      ],
      "metadata": {
        "colab": {
          "base_uri": "https://localhost:8080/"
        },
        "id": "JRxTbOwrbN8K",
        "outputId": "e56e61ea-08e7-4268-9e61-71d4a772b030"
      },
      "execution_count": 23,
      "outputs": [
        {
          "output_type": "execute_result",
          "data": {
            "text/plain": [
              "matrix([[5, 6, 0],\n",
              "        [3, 7, 5],\n",
              "        [5, 6, 1]])"
            ]
          },
          "metadata": {},
          "execution_count": 23
        }
      ]
    },
    {
      "cell_type": "code",
      "source": [
        "e = np.eye(3)\n",
        "e"
      ],
      "metadata": {
        "colab": {
          "base_uri": "https://localhost:8080/"
        },
        "id": "dNPaCa-1bOBS",
        "outputId": "5030ef42-aa59-4d34-d8fd-347d9d53a77e"
      },
      "execution_count": 24,
      "outputs": [
        {
          "output_type": "execute_result",
          "data": {
            "text/plain": [
              "array([[1., 0., 0.],\n",
              "       [0., 1., 0.],\n",
              "       [0., 0., 1.]])"
            ]
          },
          "metadata": {},
          "execution_count": 24
        }
      ]
    },
    {
      "cell_type": "code",
      "source": [
        "# creating a new matrix which  is linear transformation of x\n",
        "m = x + 45*e\n",
        "np.linalg.eig(x)"
      ],
      "metadata": {
        "colab": {
          "base_uri": "https://localhost:8080/"
        },
        "id": "ROWJ_bVrbSWC",
        "outputId": "c701eb0d-ab3d-445f-cc09-b243677b9d5c"
      },
      "execution_count": 25,
      "outputs": [
        {
          "output_type": "execute_result",
          "data": {
            "text/plain": [
              "(array([13.173862+0.j        , -0.086931+1.13264162j,\n",
              "        -0.086931-1.13264162j]),\n",
              " matrix([[ 0.49832574+0.j        ,  0.66254382+0.j        ,\n",
              "           0.66254382-0.j        ],\n",
              "         [ 0.6788743 +0.j        , -0.56171911+0.12507078j,\n",
              "          -0.56171911-0.12507078j],\n",
              "         [ 0.53925981+0.j        ,  0.37031456-0.30451889j,\n",
              "           0.37031456+0.30451889j]]))"
            ]
          },
          "metadata": {},
          "execution_count": 25
        }
      ]
    },
    {
      "cell_type": "code",
      "source": [
        "np.linalg.eig(m)"
      ],
      "metadata": {
        "colab": {
          "base_uri": "https://localhost:8080/"
        },
        "id": "i-dKRCgibSQ1",
        "outputId": "3f1f1055-9923-4cd8-eec8-9134af8bb5e5"
      },
      "execution_count": 26,
      "outputs": [
        {
          "output_type": "execute_result",
          "data": {
            "text/plain": [
              "(array([58.173862+0.j        , 44.913069+1.13264162j,\n",
              "        44.913069-1.13264162j]),\n",
              " matrix([[ 0.49832574+0.j        ,  0.66254382+0.j        ,\n",
              "           0.66254382-0.j        ],\n",
              "         [ 0.6788743 +0.j        , -0.56171911+0.12507078j,\n",
              "          -0.56171911-0.12507078j],\n",
              "         [ 0.53925981+0.j        ,  0.37031456-0.30451889j,\n",
              "           0.37031456+0.30451889j]]))"
            ]
          },
          "metadata": {},
          "execution_count": 26
        }
      ]
    }
  ]
}
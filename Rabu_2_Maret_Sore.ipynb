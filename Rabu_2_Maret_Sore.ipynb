{
  "nbformat": 4,
  "nbformat_minor": 0,
  "metadata": {
    "colab": {
      "name": "Rabu_2_Maret_Sore.ipynb",
      "private_outputs": true,
      "provenance": [],
      "collapsed_sections": []
    },
    "kernelspec": {
      "name": "python3",
      "display_name": "Python 3"
    },
    "language_info": {
      "name": "python"
    }
  },
  "cells": [
    {
      "cell_type": "markdown",
      "source": [
        "Nama : Ananda Putra Jun Askara\n",
        "\n",
        "Kelas : Ragnarok\n",
        "\n",
        "Universitas : Bina Nusantara\n",
        "\n",
        "Tugas Kelas Rabu 2 Maret Sesi Sore\n",
        "\n",
        "Jawaban No 1 :"
      ],
      "metadata": {
        "id": "mRMu8C98xfwQ"
      }
    },
    {
      "cell_type": "code",
      "execution_count": null,
      "metadata": {
        "id": "JzJotRxzfpmA"
      },
      "outputs": [],
      "source": [
        "def cek(x,y) :\n",
        "    hasil = x%y\n",
        "    if hasil==0 :\n",
        "        return True\n",
        "    else :\n",
        "        return False\n"
      ]
    },
    {
      "cell_type": "code",
      "source": [
        "x = int(input(\"masukkan nilai x : \"))\n",
        "y = int(input(\"masukkan nilai y : \"))\n",
        "hasil = cek(x,y)\n",
        "print(hasil)"
      ],
      "metadata": {
        "id": "CxeOOLKhCGRt"
      },
      "execution_count": null,
      "outputs": []
    },
    {
      "cell_type": "markdown",
      "source": [
        "No.2"
      ],
      "metadata": {
        "id": "UdPmjs8nC0bR"
      }
    },
    {
      "cell_type": "code",
      "source": [
        "menu= ['Soup and Salad', 'Pasta with meat sauce', \"Chef's special\"]\n",
        "i=0\n",
        "print(\"\\nMENU\")\n",
        "for x in range(3) :\n",
        "    print(i+1,\".\",menu[i])\n",
        "    i+=1\n",
        "\n",
        "a=int(input(\"Which number would you like to order? \"))\n",
        "\n",
        "if a == 1 or a ==2 or a ==3 :\n",
        "    print(\"One\", menu[a-1], \"coming right up\")\n",
        "else :\n",
        "    print(\"Sorry, that is not a valid choice.\")"
      ],
      "metadata": {
        "id": "qFms3PogC1WH"
      },
      "execution_count": null,
      "outputs": []
    },
    {
      "cell_type": "markdown",
      "source": [
        "No.3"
      ],
      "metadata": {
        "id": "NmF6TiPyC6yy"
      }
    },
    {
      "cell_type": "code",
      "source": [
        "def pembagianTiga():\n",
        "    angka = int(input(\"Masukkan angka yang ingin dibagi 3 : \"))\n",
        "    if angka%3 == 0 :\n",
        "        return True\n",
        "    else :\n",
        "        return False\n",
        "\n",
        "hasil=pembagianTiga()\n",
        "print(hasil)"
      ],
      "metadata": {
        "id": "8m8YlxYBC7pT"
      },
      "execution_count": null,
      "outputs": []
    },
    {
      "cell_type": "markdown",
      "source": [
        "No.4"
      ],
      "metadata": {
        "id": "8QPWIspMC_mq"
      }
    },
    {
      "cell_type": "code",
      "source": [
        "def cekKesamaan(m,n) :\n",
        "    if (m == n):\n",
        "        return False\n",
        "    else:\n",
        "        return True\n",
        "    \n",
        "m=int(input(\"masukkan nilai m : \"))\n",
        "n=int(input(\"masukkan nilai n : \"))\n",
        "\n",
        "cekKesamaan(m,n)"
      ],
      "metadata": {
        "id": "GLyoFAwkDEKu"
      },
      "execution_count": null,
      "outputs": []
    },
    {
      "cell_type": "markdown",
      "source": [
        "No.5\n",
        "kesalahan pada no 5 adalah peletakan print name, dimana name merupakan variabel lokal yang hanya bisa diketahui oleh fungsi ask_name, sehingga jika pemanggilan name dilakukan diluar fungsi maka name tidak akan terdeteksi, cara menyelesasikannya ada berbagai macam diantaranya :\n",
        "\n",
        "mereturnkan nilai name dari fungsi ask_name dan menyimpannya dalam variabel global\n",
        "memindahkan print ke dalam fungsi ask_name berikut adalah contoh penyelesaiannya :\n",
        "\n",
        "Jawaban :"
      ],
      "metadata": {
        "id": "Aq-E6LCFDIeo"
      }
    },
    {
      "cell_type": "code",
      "source": [
        "def ask_name():\n",
        "    name=input(\"Enter your name :\")\n",
        "    return name\n",
        "    \n",
        "name=ask_name()\n",
        "print(\"Your name is\", name)\n"
      ],
      "metadata": {
        "id": "QPf77dj-DOm8"
      },
      "execution_count": null,
      "outputs": []
    }
  ]
}
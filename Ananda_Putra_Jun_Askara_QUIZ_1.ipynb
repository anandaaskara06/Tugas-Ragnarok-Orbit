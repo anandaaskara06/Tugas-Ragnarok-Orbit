{
  "nbformat": 4,
  "nbformat_minor": 0,
  "metadata": {
    "colab": {
      "name": "Ananda Putra Jun Askara_QUIZ 1.ipynb",
      "private_outputs": true,
      "provenance": [],
      "collapsed_sections": []
    },
    "kernelspec": {
      "name": "python3",
      "display_name": "Python 3"
    },
    "language_info": {
      "name": "python"
    }
  },
  "cells": [
    {
      "cell_type": "markdown",
      "source": [
        "Nama : Ananda Putra Jun Askara\n",
        "\n",
        "Kelas : Ragnarok\n",
        "\n",
        "Universitas : Bina Nusantara\n",
        "\n",
        "QUIZ 1 Python OOP\n",
        "\n",
        "Apa itu OOP dan cobalah buat 2 implementasi konsep OOP menggunakan python\n",
        "\n",
        "Jawaban :\n",
        "\n",
        "OOP merupakan suatu metode pemrograman yang berorientasi objek, OOP merepresentasikan objek sebagai objek di sekitar kita dalam bentuk program\n",
        "\n",
        "Implementasi konsep OOP :"
      ],
      "metadata": {
        "id": "OAAY5WEdLntD"
      }
    },
    {
      "cell_type": "code",
      "execution_count": null,
      "metadata": {
        "id": "jj-NdGbJLhTF"
      },
      "outputs": [],
      "source": [
        "#Konsep OOP Encapsulation\n",
        "\n",
        "#sebelum encapsulation :\n",
        "\n",
        "nama = \"Ananda\"\n",
        "kelas = \"ragnarok\"\n",
        "Jurusan = \"Sistem informasi\"\n",
        "\n",
        "def belajarAI():\n",
        "  print(\"sedang belajar AI\")\n",
        "\n",
        "def info(nama, kelas, Jurusan):\n",
        "  print(f\" kelas {kelas} yang bernama {nama} Jurusan {Jurusan}\") \n",
        "\n",
        "info(nama, kelas, Jurusan)\n",
        "belajarAI()"
      ]
    },
    {
      "cell_type": "code",
      "source": [
        "#sesudah encapsulation :\n",
        "\n",
        "class Siswa(object):  \n",
        "    def __init__(self, nama, kelas):\n",
        "        self.nama = nama\n",
        "        self.kelas = kelas\n",
        "\n",
        "    def belajarAI(self):\n",
        "          print(\"sedang belajar AI\")\n",
        "\n",
        "    def info(self):\n",
        "          print(f\"kelas {self.kelas} yang bernama {self.nama}\") \n",
        "    \n",
        "\n",
        "siswa1 = Siswa(\"Adriansyah\", \"ragnarok\")\n",
        "\n",
        "siswa1.info()\n",
        "siswa1.belajarAI()"
      ],
      "metadata": {
        "id": "G989FT63L4sX"
      },
      "execution_count": null,
      "outputs": []
    },
    {
      "cell_type": "code",
      "source": [
        "#Konsep OOP Inheritence\n",
        "\n",
        "class Perabotan(object):\n",
        "    def __init__(self, nama, tempat, material):\n",
        "        self.nama = nama\n",
        "        self.tempat = tempat\n",
        "        self.material = material\n",
        "\n",
        "    def __disimpan(self):\n",
        "        print(self.nama, \" disimpan di \", self.tempat)\n",
        "\n",
        "    def info(self):\n",
        "        print(f\"nama perabotan : {self.nama}, tempat penyimpanan : {self.tempat}, terbuat dari : {self.material}\")\n",
        "\n",
        "perabotan1 = Perabotan(\"piring\",\"dapur\", \"besi\")\n",
        "\n",
        "perabotan1.info()"
      ],
      "metadata": {
        "id": "JJve5ICCL7br"
      },
      "execution_count": null,
      "outputs": []
    },
    {
      "cell_type": "code",
      "source": [
        "# Lanjutan konsep OOP dan inheritence\n",
        "\n",
        "class Meja(Perabotan):\n",
        "    def __init__(self, nama, tempat, material, warna, jumlah):\n",
        "        super().__init__(nama, tempat, material)\n",
        "        self.warna = warna\n",
        "        self.jumlah = jumlah\n",
        "\n",
        "    def dibuat(self):\n",
        "        print(self.nama,\"dibuat\")\n",
        "\n",
        "    def info(self):\n",
        "        super().info()\n",
        "        print(f\"warna: {self.warna}, jumlah : {self.jumlah}\")\n",
        "\n",
        "perabotan1 = Meja(\"Meja\", \"ruang tamu\", \"kayu\", \"emas\", \"5\")\n",
        "\n",
        "\n",
        "perabotan1.info()\n",
        "perabotan1.dibuat()"
      ],
      "metadata": {
        "id": "HKZsFaXQL-t6"
      },
      "execution_count": null,
      "outputs": []
    },
    {
      "cell_type": "markdown",
      "source": [
        "2. Sebutkan dan jelaskan 2 jenis modules yang ada dalam python\n",
        "\n",
        "Jawaban :\n",
        "\n",
        "Python modules adalah file dengan ekstensi .py yang berisi kode python yang dapat diimpor ke dalam program python lain.\n",
        "\n",
        "Modules dalam python ada 2 yaitu :\n",
        "\n",
        "python built in modules : merupakan kumpulan dari fungsi bawaan yang disediakan python, fungsi tersedia sebagai bagian dari perpustakaan yang dibundle dengan ditribusi python, modules ini tidak perlu dibuat manual dan dapat langsung digunakan dengan melakukan import\n",
        "\n",
        "pyton custom modules : merupakan modules yang dibuat secara manual disesuaikan dengan kebutuhan pribadi. modules ini kemudian bisa diimport dan digunakan secara berulang ulang tanpa harus membuat code yang sama"
      ],
      "metadata": {
        "id": "pqdb3f9UMKTf"
      }
    },
    {
      "cell_type": "markdown",
      "source": [
        "3. Hitunglah berapa hasil dari (persamaan matematika) menggunakan module math\n",
        "\n",
        "Jawaban :"
      ],
      "metadata": {
        "id": "ePSA4De8MMzX"
      }
    },
    {
      "cell_type": "code",
      "source": [
        "import math\n",
        "\n",
        "a = math.sqrt(175) + (4*(math.sqrt(7))) + (1/3) + math.log(81,3)\n",
        "\n",
        "a"
      ],
      "metadata": {
        "id": "faI1X6yNMSb_"
      },
      "execution_count": null,
      "outputs": []
    },
    {
      "cell_type": "markdown",
      "source": [
        "4. Apa itu custom exception handling dan berikan 1 contoh implementasinya\n",
        "\n",
        "Jawaban :\n",
        "\n",
        "Costum exception handling adalah cara untuk membuat kelas baru namun terdapat exception yang berfungi untuk melakukan penyesuaian pada kelas baik secara langsung atau tidak langsung.\n",
        "Contoh implementasinya adalah : penggunaan raise dalam mengcustomisasi comment yg muncul untuk error tertentu, assert untuk melempar kesalahan."
      ],
      "metadata": {
        "id": "jnwakPPeMYQP"
      }
    },
    {
      "cell_type": "code",
      "source": [
        "x = int(input(\"masukan angka 1 :\"))\n",
        "y = int(input(\"masukan angka 2 :\"))\n",
        "\n",
        "try:\n",
        "    hasil = x/y\n",
        "    print('hasil pembagian angka 1 dan 2 adalah :', hasil)\n",
        "except:\n",
        "    print(\"Tidak bisa, pembagian angka dengan 0\")"
      ],
      "metadata": {
        "id": "lciD6a3AMaZ0"
      },
      "execution_count": null,
      "outputs": []
    },
    {
      "cell_type": "markdown",
      "source": [
        "AI (Artificial Intelligence)\n",
        "\n",
        "1. Perbedaan structured dan unstructured data dan 3 sumber data?\n",
        "\n",
        "Jawaban : \n",
        "Perbedaan : Structured data merupakan data yang berbentuk tabular, yang sudah memiliki struktur, mudah dimengerti, memiliki format yang sudah ditentukan sebelumnya contoh: data bisnis, excel, csv.\n",
        "\n",
        "Sementara unstructed data merupakan data yang belum terstruktur, data sulit dimasukan dalam tabel, dan tidak memiliki struktur yang ditentukan. contoh : speech, image, video.\n",
        "\n",
        "3 sumber data : -sensor -interaksi sosial -kuisioner\n",
        "\n",
        "2. Perbedaan AI, Machine Learning, dan Deep Learning\n",
        "\n",
        "Jawaban : AI : Kumpulan algoritma yang digunakan untuk membuat sebuah kecerdasan. AI merupakan teknik yang memungkinkan komputer meniru kecerdasan manusia.\n",
        "\n",
        "ML : Machine Learning adalah bagian dari implementasi Artificial Intelligence. Machine Learning merupakan metode pembelajaran AI yang memanfaatkan data untuk membuat prediksi layaknya manusia, ML(Machine Learning) merupakan bagian dari AI yang memungkinkan mesin untuk mengerjakan tugas secara lebih baik, dengan pengalaman.\n",
        "\n",
        "DL : Rekayasa fitur otomatis (feature extraction dilakukan secara otomatis). DL merupakan bagian dari ML yang memungkinkan software melatih dirinya sendiri untuk melakukan tugas dengan data dalam jumlah besar.\n",
        "\n",
        "AI berada di lapisan terluar, didalamnya ada ML, dan didalam ML ada DL. Semakin dalam lapisannya proses yang terjadi semakin kompleks\n",
        "\n",
        "3. Perbedaan Machine Learning dan Traditional software?\n",
        "\n",
        "Jawaban : Perbedaan ML dan TS adalah machine learning memproses data dan menemukan pola dari data sehingga menemukan aturan yang akan dipakai untuk memprediksi data di kemudian hari. Output dari keduanya berbeda, ML menghasilkan aturan sementara ts menghasilkan jawaban.\n",
        "\n",
        "3 contoh aplikasi machine learning di sektor smart city dan agriculture?\n",
        "Jawaban : Smart farming, smart house, sector smart city\n",
        "\n",
        "Maths for AI\n",
        "\n",
        "1. Mengapa ilmu matematika penting ketika mempelajari AI?\n",
        "\n",
        "Jawaban : Karena AI sangat erat kakitannya dengan matematika dan statistik, komputer dapat mempelajari data dengan cara dan sistem berfikir matematika sehingga penting untuk mengetahui apa yang mendasari proses pembelajaran komputer untuk membangun sebuah AI, jadi prosesnya dilakukan secara matematika.\n",
        "\n",
        "2. Jelaskan perbedaan vektor dan skalar?\n",
        "\n",
        "Jawaban : Vektor merupakan besaran yang memiliki arah dan nilai (dalam ilmu data merupakan kumpulan nilai dari variabel tertentu), sementara skalar adalah besaran yang merepresentasikan nilai saja.\n",
        "\n",
        "3. Jelaskan perbedaan jarak eucliedean dan manhattan?\n",
        "\n",
        "Jawaban : Euclidean distance merupakan jalur terpendek antara sumber dan tujuan yang berupa garis lurus. Sementara Manhattan distance adalah jumlah dari semua jarak nyata antara sumber dan tujuan dan setiap jarak selalu berupa garis lurus.Rumus yang digunakan keduanya juga berbeda, eucliedean menggunakan akar kuadrat sementara manhattan menggunakan nilai mutlak.\n",
        "\n",
        "4. Kegunaan matrix dalam ilmu matematika ketika menggunakan AI?\n",
        "\n",
        "Jawaban : Kegunaan matrix sangat banyak diantaranya adalah menyimpan kumpulan nilai dari sebuah variabel ke dalam sebuah kelompok(matrix) dan memungkinkan kita untuk melakukan operasi matematika terhadapnya. Salah satu implementasinyanya adalah pada feature extraction dalam computer vision. Kegunaan matrix dalam ilmu AI yaitu untuk menghitung proses-proses yang dilakukan algoritma didalamnya. contohnya pada pemrosesan data gambar, maka gambar akan di ubah atau di baca menggunakan matrix yang nantinya akan di proses.\n",
        "\n",
        "Machine Learning\n",
        "\n",
        "1. Jelaskan perbedaan supervised learing dan unsupervised learning, sebutkan 2 contohnya!\n",
        "\n",
        "Jawaban : Supervised learning merupakan proses untuk menentukan relationship melalui sebuah training, sementara unsupervised learning merupakan sebuah proses yang dilakukan untuk menemukan pola yang baru. Supervised learning berhubungan dengan data yang memiliki label, sementara unsupervised learning datanya tidak berlabel\n",
        "\n",
        "contoh nya adalah : Supervised learning : mengklasifikasi bunga iris, klasifikasi kualitas wine ke dalam kategori (baik, sedang, buruk) pada data berlabel. Algoritma supervised learning diantaranya : linear regression, naive bayes,fungsinya untuk prediksi atau clasifikasi(Decision tree, Random Forest). Unsupervised learning : clustering pendapatan penduduk, deteksi anomali. Algoritma unsupervised learning diantaranya : k-means cluster, apriori, jadi ada tidak punya target variabel.\n",
        "\n",
        "2. Sebutkan tahapan machine learning AI life cycle dan jelaskan!\n",
        "\n",
        "Jawaban :\n",
        "\n",
        "Tahapan dalam AI life cycle adalah : -Menentukan tujuan : proses mengidentifikasi dan merencanakan sistem apa yang ingin dibuat -Gathering data : merupakan proses mengumpulkan data yang dibutuhkan dalam proses machine learing -Preparing data : menyiapkan data yang dikumpulkan menjadi data bersih dan sesuai dengan kebutuhan -Choosing a algoritma : memilih algoritma yang akan digunakan dalam proses machine learning -Training model : melakukan training terhadap data untuk dapat menemukan pola -Tes model : melakukan testing terhadap sistem yang sudah ditraining dan mengevaluasi kinerja sistem machine learning, apakah cukup akurat atau belum akan dikuat -Integrasikan model : mengimplementasikan sistem dan modelnya sudah baik\n",
        "\n",
        "3. Apa perbedaan regression dan clustering?\n",
        "\n",
        "Jawaban : Regression dilakukan untuk data yang labelnya sifatnya numerik yang sifatnya kontinu, sehingga prediksinya juga akan berbentuk numerik misalkan prediksi pertambahan jumlah penduduk. Regresi merupakan bagian dari supervised learning.\n",
        "Sementara, clustering merupakan pengelompokan yang dilakukan pada data yang tidak berlabel, Clustering merupakan masuk ke unsupervised learning fungsi untuk menentukan variabel masuk ke kloster dan berapa cluster.\n",
        "\n",
        "4. Apa itu algoritma artificial neural network dan untuk apa fungsinya?\n",
        "\n",
        "Jawaban : Artificial neural network merupakan algoritma yang mereplika sistem kerja neuron pada otak manusia. ANN merupakan gabungan dari beberapa neuron (perceptron) yang disusun dalam beberapa lapisan (layer). Fungsinya adalah untuk mengklasifikasi, memetakan pola,dll. Contoh penerapannya adalah face recognition, speech recognition, dan lain lain.\n"
      ],
      "metadata": {
        "id": "q0otrqtFMjp2"
      }
    }
  ]
}
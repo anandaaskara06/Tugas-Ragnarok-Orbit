{
  "cells": [
    {
      "cell_type": "markdown",
      "source": [
        "Tugas Selasa Math for AI (Materi Operasi Matrix)\n",
        "\n",
        "Nama : Ananda Putra Jun Askara\n",
        "\n",
        "Kelas : Ragnarok\n",
        "\n",
        "Universitas : Bina Nusantara\n",
        "\n",
        "Soal"
      ],
      "metadata": {
        "id": "gWELgRE17Mq7"
      },
      "id": "gWELgRE17Mq7"
    },
    {
      "cell_type": "code",
      "source": [
        "import numpy as np \n",
        "import numpy.linalg as nlin\n",
        "\n",
        "A = np.array([[1,2], [7,8]])\n",
        "B = np.array([[3,5], [1,6]])\n",
        "\n",
        "A,B"
      ],
      "metadata": {
        "colab": {
          "base_uri": "https://localhost:8080/"
        },
        "id": "WFdz9eem7cug",
        "outputId": "ad8b6e0f-ef8e-4dff-9683-d4c36a9a9991"
      },
      "id": "WFdz9eem7cug",
      "execution_count": 1,
      "outputs": [
        {
          "output_type": "execute_result",
          "data": {
            "text/plain": [
              "(array([[1, 2],\n",
              "        [7, 8]]), array([[3, 5],\n",
              "        [1, 6]]))"
            ]
          },
          "metadata": {},
          "execution_count": 1
        }
      ]
    },
    {
      "cell_type": "markdown",
      "source": [
        "1.2*A"
      ],
      "metadata": {
        "id": "uyvVGmFS73G2"
      },
      "id": "uyvVGmFS73G2"
    },
    {
      "cell_type": "code",
      "source": [
        "2*A"
      ],
      "metadata": {
        "colab": {
          "base_uri": "https://localhost:8080/"
        },
        "id": "cng4I0qE71cL",
        "outputId": "a0e0edec-93e2-476a-f14d-178d007bf9d8"
      },
      "id": "cng4I0qE71cL",
      "execution_count": 2,
      "outputs": [
        {
          "output_type": "execute_result",
          "data": {
            "text/plain": [
              "array([[ 2,  4],\n",
              "       [14, 16]])"
            ]
          },
          "metadata": {},
          "execution_count": 2
        }
      ]
    },
    {
      "cell_type": "code",
      "source": [
        "2+A"
      ],
      "metadata": {
        "colab": {
          "base_uri": "https://localhost:8080/"
        },
        "id": "5r3gbtNY71ea",
        "outputId": "ba7fe356-f94b-4805-ceb6-8146b7d8d44f"
      },
      "id": "5r3gbtNY71ea",
      "execution_count": 3,
      "outputs": [
        {
          "output_type": "execute_result",
          "data": {
            "text/plain": [
              "array([[ 3,  4],\n",
              "       [ 9, 10]])"
            ]
          },
          "metadata": {},
          "execution_count": 3
        }
      ]
    },
    {
      "cell_type": "markdown",
      "source": [
        "3.A+B"
      ],
      "metadata": {
        "id": "FHZGOvDi8Eqb"
      },
      "id": "FHZGOvDi8Eqb"
    },
    {
      "cell_type": "code",
      "source": [
        "A+B"
      ],
      "metadata": {
        "colab": {
          "base_uri": "https://localhost:8080/"
        },
        "id": "MNRpGZVg8G5M",
        "outputId": "772ae677-35ee-4a30-c294-735630704a1d"
      },
      "id": "MNRpGZVg8G5M",
      "execution_count": 4,
      "outputs": [
        {
          "output_type": "execute_result",
          "data": {
            "text/plain": [
              "array([[ 4,  7],\n",
              "       [ 8, 14]])"
            ]
          },
          "metadata": {},
          "execution_count": 4
        }
      ]
    },
    {
      "cell_type": "markdown",
      "source": [
        "4.A-B"
      ],
      "metadata": {
        "id": "oBukIcS-8Ku1"
      },
      "id": "oBukIcS-8Ku1"
    },
    {
      "cell_type": "code",
      "source": [
        "A-B"
      ],
      "metadata": {
        "colab": {
          "base_uri": "https://localhost:8080/"
        },
        "id": "XRpGh8iJ8MvZ",
        "outputId": "b6a8452f-54d2-4c88-b496-ce5ba65e71fa"
      },
      "id": "XRpGh8iJ8MvZ",
      "execution_count": 5,
      "outputs": [
        {
          "output_type": "execute_result",
          "data": {
            "text/plain": [
              "array([[-2, -3],\n",
              "       [ 6,  2]])"
            ]
          },
          "metadata": {},
          "execution_count": 5
        }
      ]
    },
    {
      "cell_type": "markdown",
      "source": [
        "5. Determinan A"
      ],
      "metadata": {
        "id": "SkiWBjS58Pnp"
      },
      "id": "SkiWBjS58Pnp"
    },
    {
      "cell_type": "code",
      "source": [
        "nlin.det(A)"
      ],
      "metadata": {
        "colab": {
          "base_uri": "https://localhost:8080/"
        },
        "id": "A4S19RbY8OoP",
        "outputId": "e3642ec8-7dd4-4735-f69b-87bdeaaea14a"
      },
      "id": "A4S19RbY8OoP",
      "execution_count": 6,
      "outputs": [
        {
          "output_type": "execute_result",
          "data": {
            "text/plain": [
              "-6.0"
            ]
          },
          "metadata": {},
          "execution_count": 6
        }
      ]
    },
    {
      "cell_type": "markdown",
      "source": [
        "6. Invers dari B, simpan jadi matrix D"
      ],
      "metadata": {
        "id": "9ZSsbI5D8Xal"
      },
      "id": "9ZSsbI5D8Xal"
    },
    {
      "cell_type": "code",
      "source": [
        "D = nlin.inv(B)\n",
        "\n",
        "D"
      ],
      "metadata": {
        "colab": {
          "base_uri": "https://localhost:8080/"
        },
        "id": "1UETRHIh8Vq0",
        "outputId": "9276888e-ff75-4937-e249-da5644b20ef0"
      },
      "id": "1UETRHIh8Vq0",
      "execution_count": 7,
      "outputs": [
        {
          "output_type": "execute_result",
          "data": {
            "text/plain": [
              "array([[ 0.46153846, -0.38461538],\n",
              "       [-0.07692308,  0.23076923]])"
            ]
          },
          "metadata": {},
          "execution_count": 7
        }
      ]
    },
    {
      "cell_type": "markdown",
      "source": [
        "7. Transpose D"
      ],
      "metadata": {
        "id": "8T1SH8xb8kfW"
      },
      "id": "8T1SH8xb8kfW"
    },
    {
      "cell_type": "code",
      "source": [
        "np.transpose(D)"
      ],
      "metadata": {
        "colab": {
          "base_uri": "https://localhost:8080/"
        },
        "id": "DdIce9uB8m3e",
        "outputId": "2ba78b53-0620-498e-bcfb-1ab326d7593d"
      },
      "id": "DdIce9uB8m3e",
      "execution_count": 8,
      "outputs": [
        {
          "output_type": "execute_result",
          "data": {
            "text/plain": [
              "array([[ 0.46153846, -0.07692308],\n",
              "       [-0.38461538,  0.23076923]])"
            ]
          },
          "metadata": {},
          "execution_count": 8
        }
      ]
    },
    {
      "cell_type": "markdown",
      "source": [
        "8. Nilai eigen dan vektor eigen dari A  dan B"
      ],
      "metadata": {
        "id": "5ZLaSEYM8q1f"
      },
      "id": "5ZLaSEYM8q1f"
    },
    {
      "cell_type": "code",
      "source": [
        "nilaiEigA, vektorEigA=nlin.eig(A)\n",
        "\n",
        "print(\"Nilai Eig matrix A :\\n\",nilaiEigA)\n",
        "print(\"\\nVektor Eig matrix A :\\n, vektorEigA\")"
      ],
      "metadata": {
        "colab": {
          "base_uri": "https://localhost:8080/"
        },
        "id": "GUwnXpnE8pra",
        "outputId": "f3b3e98e-7e1d-4eca-d250-01cab1b21134"
      },
      "id": "GUwnXpnE8pra",
      "execution_count": 10,
      "outputs": [
        {
          "output_type": "stream",
          "name": "stdout",
          "text": [
            "Nilai Eig matrix A :\n",
            " [-0.62347538  9.62347538]\n",
            "\n",
            "Vektor Eig matrix A :\n",
            ", vektorEigA\n"
          ]
        }
      ]
    },
    {
      "cell_type": "code",
      "source": [
        "nilaiEigB, vektorEigB=nlin.eig(B)\n",
        "\n",
        "print(\"Nilai Eig matrix B :\\n\",nilaiEigB)\n",
        "print(\"\\nVektor Eig matrix B :\\n\", vektorEigB)"
      ],
      "metadata": {
        "colab": {
          "base_uri": "https://localhost:8080/"
        },
        "id": "tWWDpEJK9Y3q",
        "outputId": "7d7cddff-dcf4-4816-b420-2deb7823d85c"
      },
      "id": "tWWDpEJK9Y3q",
      "execution_count": 11,
      "outputs": [
        {
          "output_type": "stream",
          "name": "stdout",
          "text": [
            "Nilai Eig matrix B :\n",
            " [1.8074176 7.1925824]\n",
            "\n",
            "Vektor Eig matrix B :\n",
            " [[-0.97271381 -0.76626443]\n",
            " [ 0.23200828 -0.64252535]]\n"
          ]
        }
      ]
    }
  ],
  "nbformat": 4,
  "nbformat_minor": 5,
  "metadata": {
    "colab": {
      "name": "Selasa-8-Maret-Pagi.ipynb",
      "provenance": [],
      "collapsed_sections": []
    },
    "language_info": {
      "name": "python"
    },
    "kernelspec": {
      "name": "python3",
      "display_name": "Python 3"
    }
  }
}

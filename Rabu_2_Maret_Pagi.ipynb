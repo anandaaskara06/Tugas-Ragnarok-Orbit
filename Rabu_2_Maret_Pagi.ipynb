{
  "nbformat": 4,
  "nbformat_minor": 0,
  "metadata": {
    "colab": {
      "name": "Rabu_2_Maret_Pagi.ipynb",
      "private_outputs": true,
      "provenance": [],
      "collapsed_sections": []
    },
    "kernelspec": {
      "name": "python3",
      "display_name": "Python 3"
    },
    "language_info": {
      "name": "python"
    }
  },
  "cells": [
    {
      "cell_type": "markdown",
      "source": [
        "Nama : Ananda Putra Jun Askara\n",
        "Kelas : Ragnarok\n",
        "Universitas : Bina Nusantara\n",
        "Tugas Kelas Rabu 2 Maret Sesi Pagi Berikut ini adalah tiga variabel yang menyimpan value dengan tipe boolean. Dengan menggunakan variabel tersebut, cobalah untuk mengerjakan soal 1 - 5 ! (Akan lebih seru jika kamu menebak terlebih dahulu hasilnya, kemudian baru implementasikan ke dalam kode program. Jika terdapat error, cobalah untuk menyelesaikannya sendiri terlebih dahulu).\n",
        "a = False\n",
        "b = True\n",
        "c = False\n",
        "(b and c)\n",
        "b or c\n",
        "not a and b\n",
        "(a and b) or not c\n",
        "not b and not (a or c) Jawaban :\n",
        "False True True True False Di bawah ini terdapat potongan kode program yang masih terdapat error (bug). Selesaikan permasalahan bug tersebut menggunakan pemahaman yang sudah dipelajari! print(Hello!) something == input('Enter something :) print('You entered :' something)\n",
        "Jawaban :"
      ],
      "metadata": {
        "id": "_ozLlfRYDrfx"
      }
    },
    {
      "cell_type": "code",
      "source": [
        "print(\"Hello!\")\n",
        "something = input('Enter something : ')\n",
        "print('You entered :' , something)\n"
      ],
      "metadata": {
        "id": "fgewqSFzDuK-"
      },
      "execution_count": null,
      "outputs": []
    },
    {
      "cell_type": "markdown",
      "source": [
        "1.Lakukan hal yang sama seperti pada soal nomor 2! print('Hello!') something = input(\"Enter something : \") if something = 'hello' : print(\"Hello for you too!\")\n",
        "elif something = 'hi' : print('Hi there!')\n",
        "else : print(\"I don't know what, \" something, \"means.\")\n",
        "Jawaban :"
      ],
      "metadata": {
        "id": "lF4t52A7D8bl"
      }
    },
    {
      "cell_type": "code",
      "source": [
        "print('Hello!')\n",
        "something = input(\"Enter something : \")\n",
        "if something == 'hello' :\n",
        "    print(\"Hello for you too!\")\n",
        "    \n",
        "elif something == 'hi' :\n",
        "    print('Hi there!')\n",
        "    \n",
        "else : \n",
        "    print(\"I don't know what,\",something, \"means.\")"
      ],
      "metadata": {
        "id": "Af8CzTT1D-9P"
      },
      "execution_count": null,
      "outputs": []
    },
    {
      "cell_type": "markdown",
      "source": [
        "1.Buatlah program yang dapat mencetak kata halo dan hai sebanyak 100 kali. contoh: halo hai halo hai … 98x !. Pastikan terdapat spasi di antara setiap perulangan kata!\n",
        "Jawaban :"
      ],
      "metadata": {
        "id": "R35wBKjkEGIT"
      }
    },
    {
      "cell_type": "code",
      "source": [
        "for i in range(0,100):\n",
        "    print(\"halo hai\")"
      ],
      "metadata": {
        "id": "SQxHvGmDELin"
      },
      "execution_count": null,
      "outputs": []
    },
    {
      "cell_type": "markdown",
      "source": [
        "1.Buatlah game suit batu-gunting-kertas sederhana. Di dalam program tersebut terdapat dua orang pemain yang dapat memilih batu/gunting/kertas menggunakan input dari pengguna. Untuk mempermudah penggambaran aturan pemenang dalam game, lengkapilah tabel kemenangan dengan menggunakan semua kemungkinan yang tersedia.\n",
        "a. Membuat tabel kemenangan (Boleh menggunakan format markdown di Jupyter Notebook)"
      ],
      "metadata": {
        "id": "3s4zFcljEUBc"
      }
    },
    {
      "cell_type": "code",
      "source": [
        "import pandas as pand\n",
        "\n",
        "tabelKemenangan = pand.DataFrame({\n",
        "    'player1':['gunting', 'gunting', 'gunting', 'kertas', 'kertas', 'kertas', 'batu', 'batu', 'batu'],\n",
        "    'player2':['gunting', 'kertas', 'batu', 'gunting', 'kertas', 'batu', 'gunting', 'kertas', 'batu'],\n",
        "    'hasil':['Draw', 'Pemain 1', 'Pemain 2', 'Pemain2', 'Draw', 'Pemain 1', 'Pemain1', 'Pemain 2', 'Draw']\n",
        "   \n",
        "})\n",
        "tabelKemenangan\n"
      ],
      "metadata": {
        "id": "umYFkKioEZj7"
      },
      "execution_count": null,
      "outputs": []
    },
    {
      "cell_type": "markdown",
      "source": [
        "B. Membuat program"
      ],
      "metadata": {
        "id": "OWEBtqQoEcpu"
      }
    },
    {
      "cell_type": "code",
      "source": [
        "print(\"Permainan Batu Gunting Kertas\")\n",
        "print(\"Silahkan input batu/gunting/kertas (sesuai format)\")\n",
        "player1 = input(\"\\nInput player 1 : \")\n",
        "player2 = input(\"Input player 2 : \")\n",
        "\n",
        "repeat = 0\n",
        "hsl = False\n",
        "\n",
        "while hsl == False:\n",
        "    if (player1 == tabelKemenangan.player1[repeat] and player2==tabelKemenangan.player2[repeat]):\n",
        "        hasil = tabelKemenangan.hasil[repeat]\n",
        "        hsl = True\n",
        "        print(\"\\nHasil :\")\n",
        "        print(\"Player 1 : \", player1)\n",
        "        print(\"Player 2 : \", player2)\n",
        "        print(\"\\n\",hasil)\n",
        "        break\n",
        "    elif(repeat >= 8) :\n",
        "        print(\"Input harus sesuai format\")\n",
        "        hsl = True\n",
        "        break\n",
        "    else :\n",
        "        repeat += 1\n",
        "        hsl = False\n",
        "        "
      ],
      "metadata": {
        "id": "YvbT8bUjEfYS"
      },
      "execution_count": null,
      "outputs": []
    },
    {
      "cell_type": "markdown",
      "source": [
        "1.Buatlah program sederhana yang menerima input secara terus menerus, akan tetapi ketika input berupa string “berhenti”, maka program tersebut akan berhenti berjalan!\n",
        "Jawaban :\n"
      ],
      "metadata": {
        "id": "VKIyXohoElbT"
      }
    },
    {
      "cell_type": "code",
      "source": [
        "text = \"\"\n",
        "while text != \"berhenti\" :\n",
        "    text = input(\"Masukkan text : \")\n"
      ],
      "metadata": {
        "id": "gqE7xjbBEosJ"
      },
      "execution_count": null,
      "outputs": []
    },
    {
      "cell_type": "markdown",
      "source": [
        "1.Dengan menggunakan konsep yang sama pada soal nomor 6, buatlah program yang dapat menampilkan menu makanan atau tertentu (minimal 3 menu). Pengguna dapat memilih salah satu dari menu yang disediakan dan menampilkan kembali menu yang dipesan beserta harganya. Program akan berhenti berjalan apabila input dari pengguna berupa string “cukup”.\n",
        "Jawaban :"
      ],
      "metadata": {
        "id": "WYFEEOnCE1D1"
      }
    },
    {
      "cell_type": "code",
      "source": [
        "belanja = \"\"\n",
        "\n",
        "menu=['bakso', 'siomay', 'soto', 'mie ayam', 'seblak']\n",
        "harga=[10000, 5000, 12000, 15000, 8000]\n",
        "\n",
        "while belanja != \"cukup\" :\n",
        "    print(\"\\n\\nMENU KANTIN RAGNAROK\\n\")\n",
        "    for i in range (5):\n",
        "        print(i+1 , \". \" , menu[i] , \" - Rp.\" , harga[i])\n",
        "        i+=1\n",
        "    pilih = int(input(\"Pilih menu yang ingin kamu beli : \"))\n",
        "    jumlah = input(\"Masukkan jumlah menu pilihan yang ingin kamu beli : \")\n",
        "    print(\"Kamu memesan \", menu[pilih-1], \"dengan harga\", harga[pilih-1])\n",
        "    belanja = input(\"input user : \")\n",
        "\n",
        "print(\"Terimakasih sudah berbelanja\")"
      ],
      "metadata": {
        "id": "MOXHujijEzec"
      },
      "execution_count": null,
      "outputs": []
    },
    {
      "cell_type": "markdown",
      "source": [
        "1.Buat program pada nomor 7 menjadi sedikit lebih kompleks dengan studi kasus tambahan apabila pengguna ingin membeli 10 Bakwan!\n",
        "Jawaban :"
      ],
      "metadata": {
        "id": "yvVQvHEtFE1l"
      }
    },
    {
      "cell_type": "code",
      "source": [
        "belanja = \"\"\n",
        "\n",
        "menu=['bakso', 'siomay', 'soto', 'mie ayam', 'seblak']\n",
        "harga=[10000, 5000, 12000, 15000, 8000]\n",
        "\n",
        "while belanja != \"cukup\" :\n",
        "    print(\"\\n\\nMENU KANTIN RAGNAROK\\n\")\n",
        "    for i in range (5):\n",
        "        print(i+1 , \". \" , menu[i] , \" - Rp.\" , harga[i])\n",
        "        i+=1\n",
        "    pilih = int(input(\"Pilih menu yang ingin kamu beli : \"))\n",
        "    jumlah = int(input(\"Masukkan jumlah menu pilihan yang ingin kamu beli : \"))\n",
        "    print(\"Kamu memesan \", menu[pilih-1], \"dengan harga\", harga[pilih-1]*jumlah)\n",
        "    belanja = input(\"input user : \")\n",
        "\n",
        "print(\"Terimakasih sudah berbelanja\")"
      ],
      "metadata": {
        "id": "xaREfntHFH7G"
      },
      "execution_count": null,
      "outputs": []
    }
  ]
}